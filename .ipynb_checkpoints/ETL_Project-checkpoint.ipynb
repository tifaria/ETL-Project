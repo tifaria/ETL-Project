{
 "cells": [
  {
   "cell_type": "code",
   "execution_count": 1,
   "metadata": {},
   "outputs": [],
   "source": [
    "import pandas as pd\n",
    "from sqlalchemy import create_engine"
   ]
  },
  {
   "cell_type": "code",
   "execution_count": 2,
   "metadata": {},
   "outputs": [],
   "source": [
    "us_videos = \"Resources/USvideos.csv\"\n",
    "gb_videos = \"Resources/GBvideos.csv\"\n",
    "fr_videos = \"Resources/FRvideos.csv\"\n",
    "ca_videos = \"Resources/CAvideos.csv\"\n",
    "germany_videos = \"Resources/DEvideos.csv\"\n",
    "us_data_df = pd.read_csv(us_videos)\n",
    "gb_data_df = pd.read_csv(gb_videos)\n",
    "fr_data_df = pd.read_csv(fr_videos)\n",
    "ca_data_df = pd.read_csv(ca_videos)\n",
    "germany_data_df = pd.read_csv(germany_videos)"
   ]
  },
  {
   "cell_type": "code",
   "execution_count": 3,
   "metadata": {},
   "outputs": [],
   "source": [
    "us_videos_df_new = us_data_df[['trending_date', 'title', 'channel_title', 'category_id', 'views', 'likes', 'dislikes', 'comment_count']].copy()\n",
    "gb_videos_df_new = gb_data_df[['trending_date', 'title', 'channel_title', 'category_id', 'views', 'likes', 'dislikes', 'comment_count']].copy()\n",
    "fr_videos_df_new = fr_data_df[['trending_date', 'title', 'channel_title', 'category_id', 'views', 'likes', 'dislikes', 'comment_count']].copy()\n",
    "ca_videos_df_new = ca_data_df[['trending_date', 'title', 'channel_title', 'category_id', 'views', 'likes', 'dislikes', 'comment_count']].copy()\n",
    "germany_videos_df_new = germany_data_df[['trending_date', 'title', 'channel_title', 'category_id', 'views', 'likes', 'dislikes', 'comment_count']].copy()\n"
   ]
  },
  {
   "cell_type": "code",
   "execution_count": 4,
   "metadata": {},
   "outputs": [],
   "source": [
    "rds_connection_string = \"postgres:postgres@localhost:5432/ETL_Project\"\n",
    "engine = create_engine(f'postgresql://{rds_connection_string}')"
   ]
  },
  {
   "cell_type": "code",
   "execution_count": 5,
   "metadata": {},
   "outputs": [
    {
     "data": {
      "text/plain": [
       "['canada_videos', 'gb_videos', 'germany_videos', 'us_videos', 'france_videos']"
      ]
     },
     "execution_count": 5,
     "metadata": {},
     "output_type": "execute_result"
    }
   ],
   "source": [
    "engine.table_names()"
   ]
  },
  {
   "cell_type": "code",
   "execution_count": 9,
   "metadata": {},
   "outputs": [],
   "source": [
    "us_videos_df_new.to_sql(name='us_videos', con=engine, if_exists='append', index=False)\n",
    "gb_videos_df_new.to_sql(name='gb_videos', con=engine, if_exists='append', index=False)\n",
    "fr_videos_df_new.to_sql(name='france_videos', con=engine, if_exists='append', index=False)\n",
    "ca_videos_df_new.to_sql(name='canada_videos', con=engine, if_exists='append', index=False)\n",
    "germany_videos_df_new.to_sql(name='germany_videos', con=engine, if_exists='append', index=False)\n"
   ]
  },
  {
   "cell_type": "code",
   "execution_count": null,
   "metadata": {},
   "outputs": [],
   "source": []
  }
 ],
 "metadata": {
  "kernelspec": {
   "display_name": "Python 3",
   "language": "python",
   "name": "python3"
  },
  "language_info": {
   "codemirror_mode": {
    "name": "ipython",
    "version": 3
   },
   "file_extension": ".py",
   "mimetype": "text/x-python",
   "name": "python",
   "nbconvert_exporter": "python",
   "pygments_lexer": "ipython3",
   "version": "3.7.3"
  }
 },
 "nbformat": 4,
 "nbformat_minor": 2
}
