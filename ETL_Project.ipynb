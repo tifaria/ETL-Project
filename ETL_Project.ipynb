{
 "cells": [
  {
   "cell_type": "code",
   "execution_count": 4,
   "metadata": {},
   "outputs": [],
   "source": [
    "import pandas as pd\n",
    "from sqlalchemy import create_engine\n",
    "from config import db_pass"
   ]
  },
  {
   "cell_type": "code",
   "execution_count": 8,
   "metadata": {},
   "outputs": [],
   "source": [
    "us_videos = \"Resources/USvideos.csv\"\n",
    "gb_videos = \"Resources/GBvideos.csv\"\n",
    "fr_videos = \"Resources/FRvideos.csv\"\n",
    "ca_videos = \"Resources/CAvideos.csv\"\n",
    "germany_videos = \"Resources/DEvideos.csv\"\n",
    "us_data_df = pd.read_csv(us_videos)\n",
    "gb_data_df = pd.read_csv(gb_videos)\n",
    "fr_data_df = pd.read_csv(fr_videos)\n",
    "ca_data_df = pd.read_csv(ca_videos)\n",
    "germany_data_df = pd.read_csv(germany_videos)"
   ]
  },
  {
   "cell_type": "code",
   "execution_count": 10,
   "metadata": {},
   "outputs": [
    {
     "data": {
      "text/html": [
       "<div>\n",
       "<style scoped>\n",
       "    .dataframe tbody tr th:only-of-type {\n",
       "        vertical-align: middle;\n",
       "    }\n",
       "\n",
       "    .dataframe tbody tr th {\n",
       "        vertical-align: top;\n",
       "    }\n",
       "\n",
       "    .dataframe thead th {\n",
       "        text-align: right;\n",
       "    }\n",
       "</style>\n",
       "<table border=\"1\" class=\"dataframe\">\n",
       "  <thead>\n",
       "    <tr style=\"text-align: right;\">\n",
       "      <th></th>\n",
       "      <th>trending_date</th>\n",
       "      <th>title</th>\n",
       "      <th>channel_title</th>\n",
       "      <th>category_id</th>\n",
       "      <th>views</th>\n",
       "      <th>likes</th>\n",
       "      <th>dislikes</th>\n",
       "      <th>comment_count</th>\n",
       "    </tr>\n",
       "  </thead>\n",
       "  <tbody>\n",
       "    <tr>\n",
       "      <th>0</th>\n",
       "      <td>17.14.11</td>\n",
       "      <td>WE WANT TO TALK ABOUT OUR MARRIAGE</td>\n",
       "      <td>CaseyNeistat</td>\n",
       "      <td>22</td>\n",
       "      <td>748374</td>\n",
       "      <td>57527</td>\n",
       "      <td>2966</td>\n",
       "      <td>15954</td>\n",
       "    </tr>\n",
       "    <tr>\n",
       "      <th>1</th>\n",
       "      <td>17.14.11</td>\n",
       "      <td>The Trump Presidency: Last Week Tonight with J...</td>\n",
       "      <td>LastWeekTonight</td>\n",
       "      <td>24</td>\n",
       "      <td>2418783</td>\n",
       "      <td>97185</td>\n",
       "      <td>6146</td>\n",
       "      <td>12703</td>\n",
       "    </tr>\n",
       "    <tr>\n",
       "      <th>2</th>\n",
       "      <td>17.14.11</td>\n",
       "      <td>Racist Superman | Rudy Mancuso, King Bach &amp; Le...</td>\n",
       "      <td>Rudy Mancuso</td>\n",
       "      <td>23</td>\n",
       "      <td>3191434</td>\n",
       "      <td>146033</td>\n",
       "      <td>5339</td>\n",
       "      <td>8181</td>\n",
       "    </tr>\n",
       "    <tr>\n",
       "      <th>3</th>\n",
       "      <td>17.14.11</td>\n",
       "      <td>Nickelback Lyrics: Real or Fake?</td>\n",
       "      <td>Good Mythical Morning</td>\n",
       "      <td>24</td>\n",
       "      <td>343168</td>\n",
       "      <td>10172</td>\n",
       "      <td>666</td>\n",
       "      <td>2146</td>\n",
       "    </tr>\n",
       "    <tr>\n",
       "      <th>4</th>\n",
       "      <td>17.14.11</td>\n",
       "      <td>I Dare You: GOING BALD!?</td>\n",
       "      <td>nigahiga</td>\n",
       "      <td>24</td>\n",
       "      <td>2095731</td>\n",
       "      <td>132235</td>\n",
       "      <td>1989</td>\n",
       "      <td>17518</td>\n",
       "    </tr>\n",
       "  </tbody>\n",
       "</table>\n",
       "</div>"
      ],
      "text/plain": [
       "  trending_date                                              title  \\\n",
       "0      17.14.11                 WE WANT TO TALK ABOUT OUR MARRIAGE   \n",
       "1      17.14.11  The Trump Presidency: Last Week Tonight with J...   \n",
       "2      17.14.11  Racist Superman | Rudy Mancuso, King Bach & Le...   \n",
       "3      17.14.11                   Nickelback Lyrics: Real or Fake?   \n",
       "4      17.14.11                           I Dare You: GOING BALD!?   \n",
       "\n",
       "           channel_title  category_id    views   likes  dislikes  \\\n",
       "0           CaseyNeistat           22   748374   57527      2966   \n",
       "1        LastWeekTonight           24  2418783   97185      6146   \n",
       "2           Rudy Mancuso           23  3191434  146033      5339   \n",
       "3  Good Mythical Morning           24   343168   10172       666   \n",
       "4               nigahiga           24  2095731  132235      1989   \n",
       "\n",
       "   comment_count  \n",
       "0          15954  \n",
       "1          12703  \n",
       "2           8181  \n",
       "3           2146  \n",
       "4          17518  "
      ]
     },
     "execution_count": 10,
     "metadata": {},
     "output_type": "execute_result"
    }
   ],
   "source": [
    "us_videos_df_new = us_data_df[['trending_date', 'title', 'channel_title', 'category_id', 'views', 'likes', 'dislikes', 'comment_count']].copy()\n",
    "gb_videos_df_new = gb_data_df[['trending_date', 'title', 'channel_title', 'category_id', 'views', 'likes', 'dislikes', 'comment_count']].copy()\n",
    "fr_videos_df_new = fr_data_df[['trending_date', 'title', 'channel_title', 'category_id', 'views', 'likes', 'dislikes', 'comment_count']].copy()\n",
    "ca_videos_df_new = ca_data_df[['trending_date', 'title', 'channel_title', 'category_id', 'views', 'likes', 'dislikes', 'comment_count']].copy()\n",
    "germany_videos_df_new = germany_data_df[['trending_date', 'title', 'channel_title', 'category_id', 'views', 'likes', 'dislikes', 'comment_count']].copy()\n",
    "us_videos_df_new.head()"
   ]
  },
  {
   "cell_type": "code",
   "execution_count": 11,
   "metadata": {},
   "outputs": [],
   "source": [
    "rds_connection_string =f\"postgres:{db_pass}@localhost:5432/YouTube_db\"\n",
    "engine = create_engine(f'postgresql://{rds_connection_string}')"
   ]
  },
  {
   "cell_type": "code",
   "execution_count": 12,
   "metadata": {},
   "outputs": [
    {
     "data": {
      "text/plain": [
       "['us_videos']"
      ]
     },
     "execution_count": 12,
     "metadata": {},
     "output_type": "execute_result"
    }
   ],
   "source": [
    "engine.table_names()"
   ]
  },
  {
   "cell_type": "code",
   "execution_count": 15,
   "metadata": {},
   "outputs": [],
   "source": [
    "us_videos_df_new.to_sql(name='us_videos', con=engine, if_exists='append', index=False)\n",
    "gb_videos_df_new.to_sql(name='gb_videos', con=engine, if_exists='append', index=False)\n",
    "fr_videos_df_new.to_sql(name='france_videos', con=engine, if_exists='append', index=False)\n",
    "ca_videos_df_new.to_sql(name='canada_videos', con=engine, if_exists='append', index=False)\n",
    "germany_videos_df_new.to_sql(name='germany_videos', con=engine, if_exists='append', index=False)\n"
   ]
  },
  {
   "cell_type": "code",
   "execution_count": null,
   "metadata": {},
   "outputs": [],
   "source": []
  }
 ],
 "metadata": {
  "kernelspec": {
   "display_name": "Python 3",
   "language": "python",
   "name": "python3"
  },
  "language_info": {
   "codemirror_mode": {
    "name": "ipython",
    "version": 3
   },
   "file_extension": ".py",
   "mimetype": "text/x-python",
   "name": "python",
   "nbconvert_exporter": "python",
   "pygments_lexer": "ipython3",
   "version": "3.7.3"
  }
 },
 "nbformat": 4,
 "nbformat_minor": 2
}
